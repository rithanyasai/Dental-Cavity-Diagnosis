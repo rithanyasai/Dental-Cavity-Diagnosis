{
  "nbformat": 4,
  "nbformat_minor": 0,
  "metadata": {
    "colab": {
      "provenance": []
    },
    "kernelspec": {
      "name": "python3",
      "display_name": "Python 3"
    },
    "language_info": {
      "name": "python"
    },
    "gpuClass": "standard",
    "accelerator": "GPU"
  },
  "cells": [
    {
      "cell_type": "code",
      "execution_count": 23,
      "metadata": {
        "id": "GOlp-ZWi69LF"
      },
      "outputs": [],
      "source": [
        "import tensorflow\n",
        "import numpy as np\n",
        "import os\n",
        "import shutil\n",
        "from tensorflow.keras.preprocessing.image import ImageDataGenerator\n",
        "\n",
        "\n",
        "import tensorflow as tf\n",
        "\n",
        "from tensorflow.keras import datasets, layers, models\n",
        "import matplotlib.pyplot as plt\n",
        "\n",
        "import os\n",
        "import zipfile\n",
        "\n",
        "import datetime\n",
        "from tensorflow.keras.models import Sequential\n",
        "from tensorflow.keras.layers import Conv2D, MaxPool2D, Flatten, Dense, Dropout"
      ]
    },
    {
      "cell_type": "code",
      "source": [
        "from google.colab import drive \n",
        "drive.mount('/content/drive')"
      ],
      "metadata": {
        "colab": {
          "base_uri": "https://localhost:8080/"
        },
        "id": "oF9F0HIZ7MC_",
        "outputId": "c934202c-231d-4530-a043-97d5b21baaeb"
      },
      "execution_count": 24,
      "outputs": [
        {
          "output_type": "stream",
          "name": "stdout",
          "text": [
            "Drive already mounted at /content/drive; to attempt to forcibly remount, call drive.mount(\"/content/drive\", force_remount=True).\n"
          ]
        }
      ]
    },
    {
      "cell_type": "code",
      "source": [
        "!unzip -q \"/content/drive/MyDrive/full teeth.zip\""
      ],
      "metadata": {
        "id": "D4ICrPuS7RWh"
      },
      "execution_count": null,
      "outputs": []
    },
    {
      "cell_type": "code",
      "source": [
        "train = ImageDataGenerator(rescale=1./255).flow_from_directory(directory=\"/content/full teeth/train\", batch_size=32, target_size=(256,256), class_mode='binary')\n",
        "valid = ImageDataGenerator(rescale=1./255).flow_from_directory(directory=\"/content/full teeth/val\", batch_size=32, target_size=(256,256), class_mode='binary')"
      ],
      "metadata": {
        "colab": {
          "base_uri": "https://localhost:8080/"
        },
        "id": "gonWy3z_7i0_",
        "outputId": "7925231a-ad73-4672-ecb0-3e86e6249ae8"
      },
      "execution_count": 25,
      "outputs": [
        {
          "output_type": "stream",
          "name": "stdout",
          "text": [
            "Found 2076 images belonging to 2 classes.\n",
            "Found 187 images belonging to 2 classes.\n"
          ]
        }
      ]
    },
    {
      "cell_type": "code",
      "source": [
        "print(\"non-caries\",len(os.listdir(\"/content/full teeth/train/non caries\")))\n",
        "print(\"caries\",len(os.listdir(\"/content/full teeth/train/caries\")))"
      ],
      "metadata": {
        "colab": {
          "base_uri": "https://localhost:8080/"
        },
        "id": "T6BdRvaKIz27",
        "outputId": "94247233-71ea-489c-e97b-00db893b11d9"
      },
      "execution_count": null,
      "outputs": [
        {
          "output_type": "stream",
          "name": "stdout",
          "text": [
            "non-caries 1039\n",
            "caries 1038\n"
          ]
        }
      ]
    },
    {
      "cell_type": "code",
      "source": [
        "print(\"non-caries\",len(os.listdir(\"/content/full teeth/val/non caries\")))\n",
        "print(\"caries\",len(os.listdir(\"/content/full teeth/val/caries\")))"
      ],
      "metadata": {
        "colab": {
          "base_uri": "https://localhost:8080/"
        },
        "id": "K2jK6IEgMcMC",
        "outputId": "0361d63c-051f-4dee-ccb0-dd94244c41d0"
      },
      "execution_count": null,
      "outputs": [
        {
          "output_type": "stream",
          "name": "stdout",
          "text": [
            "non-caries 94\n",
            "caries 94\n"
          ]
        }
      ]
    },
    {
      "cell_type": "code",
      "source": [
        "pip install Augmentor"
      ],
      "metadata": {
        "colab": {
          "base_uri": "https://localhost:8080/"
        },
        "id": "4lJNfiukd-8h",
        "outputId": "6c9f67aa-2d10-4eda-c27e-98b165c72c51"
      },
      "execution_count": null,
      "outputs": [
        {
          "output_type": "stream",
          "name": "stdout",
          "text": [
            "Looking in indexes: https://pypi.org/simple, https://us-python.pkg.dev/colab-wheels/public/simple/\n",
            "Collecting Augmentor\n",
            "  Downloading Augmentor-0.2.10-py2.py3-none-any.whl (38 kB)\n",
            "Requirement already satisfied: numpy>=1.11.0 in /usr/local/lib/python3.8/dist-packages (from Augmentor) (1.21.6)\n",
            "Requirement already satisfied: tqdm>=4.9.0 in /usr/local/lib/python3.8/dist-packages (from Augmentor) (4.64.1)\n",
            "Requirement already satisfied: Pillow>=5.2.0 in /usr/local/lib/python3.8/dist-packages (from Augmentor) (7.1.2)\n",
            "Requirement already satisfied: future>=0.16.0 in /usr/local/lib/python3.8/dist-packages (from Augmentor) (0.16.0)\n",
            "Installing collected packages: Augmentor\n",
            "Successfully installed Augmentor-0.2.10\n"
          ]
        }
      ]
    },
    {
      "cell_type": "code",
      "source": [
        "# import Augmentor\n",
        "# p = Augmentor.Pipeline(\"/content/full teeth/val/non caries\")\n",
        "# p.rotate(probability=0.7, max_left_rotation=10, max_right_rotation=10)\n",
        "# p.zoom(probability=0.3, min_factor=1.1, max_factor=1.6)\n",
        "# p.sample(71)"
      ],
      "metadata": {
        "colab": {
          "base_uri": "https://localhost:8080/"
        },
        "id": "AF3KScCBd0kY",
        "outputId": "53c7b5be-f571-4ff4-9ce7-ae39165b76ac"
      },
      "execution_count": null,
      "outputs": [
        {
          "output_type": "stream",
          "name": "stdout",
          "text": [
            "Initialised with 22 image(s) found.\n",
            "Output directory set to /content/full teeth/val/non caries/output."
          ]
        },
        {
          "output_type": "stream",
          "name": "stderr",
          "text": [
            "Processing <PIL.PngImagePlugin.PngImageFile image mode=L size=2950x1150 at 0x7F96AC224100>: 100%|██████████| 71/71 [00:44<00:00,  1.59 Samples/s]\n"
          ]
        }
      ]
    },
    {
      "cell_type": "code",
      "source": [
        "# import os\n",
        "# import shutil\n",
        " \n",
        "# source = '/content/full teeth/val/non caries/output'\n",
        "# destination = '/content/full teeth/val/non caries'\n",
        " \n",
        "# # gather all files\n",
        "# allfiles = os.listdir(source)\n",
        " \n",
        "# # iterate on all files to move them to destination folder\n",
        "# for f in allfiles:\n",
        "#     src_path = os.path.join(source, f)\n",
        "#     dst_path = os.path.join(destination, f)\n",
        "#     shutil.move(src_path, dst_path)\n",
        "\n",
        "  "
      ],
      "metadata": {
        "id": "rgJFQ5_SiZST"
      },
      "execution_count": null,
      "outputs": []
    },
    {
      "cell_type": "code",
      "source": [
        "# import Augmentor\n",
        "# p = Augmentor.Pipeline(\"/content/full teeth/train/non caries\")\n",
        "# p.rotate(probability=0.7, max_left_rotation=10, max_right_rotation=10)\n",
        "# p.zoom(probability=0.3, min_factor=1.1, max_factor=1.6)\n",
        "# p.sample(1016)\n",
        "# import os\n",
        "# import shutil\n",
        " \n",
        "# source = '/content/full teeth/train/non caries/output'\n",
        "# destination = '/content/full teeth/train/non caries'\n",
        " \n",
        "# # gather all files\n",
        "# allfiles = os.listdir(source)\n",
        " \n",
        "# # iterate on all files to move them to destination folder\n",
        "# for f in allfiles:\n",
        "#     src_path = os.path.join(source, f)\n",
        "#     dst_path = os.path.join(destination, f)\n",
        "#     shutil.move(src_path, dst_path)\n",
        "\n"
      ],
      "metadata": {
        "id": "7srXh5binrle"
      },
      "execution_count": null,
      "outputs": []
    },
    {
      "cell_type": "code",
      "source": [
        "model = Sequential()\n",
        "model.add(layers.Conv2D(input_shape=(256,256,3), filters=64,kernel_size=(3,3), padding=\"same\",activation='relu'))\n",
        "model.add(layers.Conv2D(filters=64,kernel_size=(3,3), padding=\"same\",activation='relu'))\n",
        "model.add(layers.MaxPooling2D((2, 2)))\n",
        "model.add(layers.Conv2D(32, (3, 3), activation='relu'))\n",
        "model.add(layers.MaxPooling2D((2, 2)))\n",
        "model.add(layers.Conv2D(64, (3, 3), activation='relu'))\n",
        "model.add(layers.MaxPooling2D((2, 2)))\n",
        "model.add(layers.Conv2D(128, (3, 3), activation='relu'))\n",
        "model.add(layers.MaxPooling2D((2, 2)))\n",
        "model.add(layers.Conv2D(64, (3, 3), activation='relu'))\n",
        "model.add(layers.MaxPooling2D((2, 2)))\n",
        "model.add(layers.Conv2D(32, (3, 3), activation='relu'))\n",
        "model.add(layers.MaxPooling2D((2, 2)))\n",
        "model.add(layers.Flatten())\n",
        "model.add(layers.Dense(64, activation='relu'))\n",
        "model.add(Dropout(0.5))\n",
        "model.add(layers.Dense(1,activation='sigmoid'))"
      ],
      "metadata": {
        "id": "NPgwfsX8710X"
      },
      "execution_count": 26,
      "outputs": []
    },
    {
      "cell_type": "code",
      "source": [
        "model.summary()"
      ],
      "metadata": {
        "colab": {
          "base_uri": "https://localhost:8080/"
        },
        "id": "dHrdHdYndz2g",
        "outputId": "00e65517-0c1a-40a9-f09f-c78d9dde6319"
      },
      "execution_count": 27,
      "outputs": [
        {
          "output_type": "stream",
          "name": "stdout",
          "text": [
            "Model: \"sequential_1\"\n",
            "_________________________________________________________________\n",
            " Layer (type)                Output Shape              Param #   \n",
            "=================================================================\n",
            " conv2d_7 (Conv2D)           (None, 256, 256, 64)      1792      \n",
            "                                                                 \n",
            " conv2d_8 (Conv2D)           (None, 256, 256, 64)      36928     \n",
            "                                                                 \n",
            " max_pooling2d_6 (MaxPooling  (None, 128, 128, 64)     0         \n",
            " 2D)                                                             \n",
            "                                                                 \n",
            " conv2d_9 (Conv2D)           (None, 126, 126, 32)      18464     \n",
            "                                                                 \n",
            " max_pooling2d_7 (MaxPooling  (None, 63, 63, 32)       0         \n",
            " 2D)                                                             \n",
            "                                                                 \n",
            " conv2d_10 (Conv2D)          (None, 61, 61, 64)        18496     \n",
            "                                                                 \n",
            " max_pooling2d_8 (MaxPooling  (None, 30, 30, 64)       0         \n",
            " 2D)                                                             \n",
            "                                                                 \n",
            " conv2d_11 (Conv2D)          (None, 28, 28, 128)       73856     \n",
            "                                                                 \n",
            " max_pooling2d_9 (MaxPooling  (None, 14, 14, 128)      0         \n",
            " 2D)                                                             \n",
            "                                                                 \n",
            " conv2d_12 (Conv2D)          (None, 12, 12, 64)        73792     \n",
            "                                                                 \n",
            " max_pooling2d_10 (MaxPoolin  (None, 6, 6, 64)         0         \n",
            " g2D)                                                            \n",
            "                                                                 \n",
            " conv2d_13 (Conv2D)          (None, 4, 4, 32)          18464     \n",
            "                                                                 \n",
            " max_pooling2d_11 (MaxPoolin  (None, 2, 2, 32)         0         \n",
            " g2D)                                                            \n",
            "                                                                 \n",
            " flatten_1 (Flatten)         (None, 128)               0         \n",
            "                                                                 \n",
            " dense_2 (Dense)             (None, 64)                8256      \n",
            "                                                                 \n",
            " dropout_1 (Dropout)         (None, 64)                0         \n",
            "                                                                 \n",
            " dense_3 (Dense)             (None, 1)                 65        \n",
            "                                                                 \n",
            "=================================================================\n",
            "Total params: 250,113\n",
            "Trainable params: 250,113\n",
            "Non-trainable params: 0\n",
            "_________________________________________________________________\n"
          ]
        }
      ]
    },
    {
      "cell_type": "code",
      "source": [
        "early_stopping=tf.keras.callbacks.EarlyStopping(monitor=\"val_accuracy\",\n",
        "                                                patience=3)"
      ],
      "metadata": {
        "id": "j12pkU5cOzrj"
      },
      "execution_count": 28,
      "outputs": []
    },
    {
      "cell_type": "code",
      "source": [
        "from tensorflow.keras.optimizers import Adam\n",
        "\n",
        "model.compile(optimizer=\"adam\", loss=\"binary_crossentropy\", metrics=['accuracy'])"
      ],
      "metadata": {
        "id": "xmVw3Kiv8SYj"
      },
      "execution_count": 30,
      "outputs": []
    },
    {
      "cell_type": "code",
      "source": [
        "model_fit = model.fit(train, \n",
        "                     epochs = 15,\n",
        "                    verbose = 1,\n",
        "                     validation_data = valid,\n",
        "                      callbacks=[early_stopping])"
      ],
      "metadata": {
        "id": "cBWUCObz8jki",
        "colab": {
          "base_uri": "https://localhost:8080/"
        },
        "outputId": "d3328ce7-d779-47a2-ea5c-9754f8dfb924"
      },
      "execution_count": 31,
      "outputs": [
        {
          "output_type": "stream",
          "name": "stdout",
          "text": [
            "Epoch 1/15\n",
            "65/65 [==============================] - 94s 1s/step - loss: 0.5033 - accuracy: 0.7250 - val_loss: 1.2850 - val_accuracy: 0.5936\n",
            "Epoch 2/15\n",
            "65/65 [==============================] - 80s 1s/step - loss: 0.2239 - accuracy: 0.9234 - val_loss: 0.4036 - val_accuracy: 0.8128\n",
            "Epoch 3/15\n",
            "65/65 [==============================] - ETA: 0s - loss: 0.0994 - accuracy: 0.9716Epoch 4/15\n",
            "65/65 [==============================] - 80s 1s/step - loss: 0.0744 - accuracy: 0.9798 - val_loss: 0.0697 - val_accuracy: 0.9893\n",
            "Epoch 5/15\n",
            "65/65 [==============================] - 78s 1s/step - loss: 0.0460 - accuracy: 0.9884 - val_loss: 0.0905 - val_accuracy: 0.9626\n",
            "Epoch 6/15\n",
            "65/65 [==============================] - 83s 1s/step - loss: 0.0453 - accuracy: 0.9884 - val_loss: 0.0180 - val_accuracy: 1.0000\n",
            "Epoch 7/15\n",
            "65/65 [==============================] - 80s 1s/step - loss: 0.0428 - accuracy: 0.9860 - val_loss: 0.0220 - val_accuracy: 0.9893\n",
            "Epoch 8/15\n",
            "65/65 [==============================] - 79s 1s/step - loss: 0.0220 - accuracy: 0.9937 - val_loss: 0.0339 - val_accuracy: 0.9840\n",
            "Epoch 9/15\n",
            "65/65 [==============================] - 79s 1s/step - loss: 0.0254 - accuracy: 0.9918 - val_loss: 0.0304 - val_accuracy: 0.9840\n"
          ]
        }
      ]
    },
    {
      "cell_type": "code",
      "source": [
        "model.save(\"Dental_proj5.h5\")"
      ],
      "metadata": {
        "id": "gbpD3PPK8ulY"
      },
      "execution_count": 32,
      "outputs": []
    },
    {
      "cell_type": "code",
      "source": [],
      "metadata": {
        "id": "0TFvybdVSWRS"
      },
      "execution_count": null,
      "outputs": []
    }
  ]
}