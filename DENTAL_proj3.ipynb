{
  "nbformat": 4,
  "nbformat_minor": 0,
  "metadata": {
    "colab": {
      "provenance": []
    },
    "kernelspec": {
      "name": "python3",
      "display_name": "Python 3"
    },
    "language_info": {
      "name": "python"
    },
    "gpuClass": "standard"
  },
  "cells": [
    {
      "cell_type": "code",
      "execution_count": null,
      "metadata": {
        "id": "GOlp-ZWi69LF"
      },
      "outputs": [],
      "source": [
        "import tensorflow\n",
        "import numpy as np\n",
        "import os\n",
        "import shutil\n",
        "from tensorflow.keras.preprocessing.image import ImageDataGenerator\n",
        "\n",
        "\n",
        "import tensorflow as tf\n",
        "\n",
        "from tensorflow.keras import datasets, layers, models\n",
        "import matplotlib.pyplot as plt\n",
        "\n",
        "import os\n",
        "import zipfile\n",
        "\n",
        "import datetime\n",
        "from tensorflow.keras.models import Sequential\n",
        "from tensorflow.keras.layers import Conv2D, MaxPool2D, Flatten, Dense, Dropout"
      ]
    },
    {
      "cell_type": "code",
      "source": [
        "from google.colab import drive \n",
        "drive.mount('/content/drive')"
      ],
      "metadata": {
        "colab": {
          "base_uri": "https://localhost:8080/"
        },
        "id": "oF9F0HIZ7MC_",
        "outputId": "ade4e95d-59d9-4b9f-b269-40fd79ad34dc"
      },
      "execution_count": null,
      "outputs": [
        {
          "output_type": "stream",
          "name": "stdout",
          "text": [
            "Mounted at /content/drive\n"
          ]
        }
      ]
    },
    {
      "cell_type": "code",
      "source": [
        "!unzip -q \"/content/drive/MyDrive/full teeth.zip\""
      ],
      "metadata": {
        "id": "D4ICrPuS7RWh"
      },
      "execution_count": null,
      "outputs": []
    },
    {
      "cell_type": "code",
      "source": [
        "train = ImageDataGenerator(rescale=1./255).flow_from_directory(directory=\"/content/full teeth/train\", batch_size=32, target_size=(256,256), class_mode='binary')\n",
        "valid = ImageDataGenerator(rescale=1./255).flow_from_directory(directory=\"/content/full teeth/val\", batch_size=32, target_size=(256,256), class_mode='binary')"
      ],
      "metadata": {
        "id": "gonWy3z_7i0_"
      },
      "execution_count": null,
      "outputs": []
    },
    {
      "cell_type": "code",
      "source": [
        "model = Sequential()\n",
        "model.add(layers.Conv2D(input_shape=(256,256,3), filters=64,kernel_size=(3,3), padding=\"sam   ````````````````e\",activation='relu'))\n",
        "model.add(layers.Conv2D(filters=64,kernel_size=(3,3), padding=\"same\",activation='relu'))\n",
        "model.add(layers.MaxPooling2D((2, 2)))\n",
        "model.add(layers.Conv2D(32, (3, 3), activation='relu'))\n",
        "model.add(layers.MaxPooling2D((2, 2)))\n",
        "model.add(layers.Conv2D(64, (3, 3), activation='relu'))\n",
        "model.add(layers.MaxPooling2D((2, 2)))\n",
        "model.add(layers.Conv2D(128, (3, 3), activation='relu'))\n",
        "model.add(layers.MaxPooling2D((2, 2)))\n",
        "model.add(layers.Conv2D(64, (3, 3), activation='relu'))\n",
        "model.add(layers.MaxPooling2D((2, 2)))\n",
        "model.add(layers.Conv2D(32, (3, 3), activation='relu'))\n",
        "model.add(layers.MaxPooling2D((2, 2)))\n",
        "model.add(layers.Flatten())\n",
        "model.add(layers.Dense(64, activation='relu'))\n",
        "model.add(layers.Dense(1,activation='sigmoid'))"
      ],
      "metadata": {
        "id": "NPgwfsX8710X"
      },
      "execution_count": null,
      "outputs": []
    },
    {
      "cell_type": "code",
      "source": [
        "from tensorflow.keras.optimizers import Adam\n",
        "\n",
        "model.compile(optimizer=\"adam\", loss=\"binary_crossentropy\", metrics=['accuracy'])"
      ],
      "metadata": {
        "id": "xmVw3Kiv8SYj"
      },
      "execution_count": null,
      "outputs": []
    },
    {
      "cell_type": "code",
      "source": [
        "early_stopping=tf.keras.callbacks.EarlyStopping(monitor=\"val_accuracy\",\n",
        "                                                patience=3)"
      ],
      "metadata": {
        "id": "Q6FTt4TJ8hf0"
      },
      "execution_count": null,
      "outputs": []
    },
    {
      "cell_type": "code",
      "source": [
        "model_fit = model.fit(train, \n",
        "                     epochs = 12,\n",
        "                    verbose = 1,\n",
        "                     validation_data = valid)"
      ],
      "metadata": {
        "id": "cBWUCObz8jki",
        "colab": {
          "base_uri": "https://localhost:8080/"
        },
        "outputId": "6fce3291-fb89-46ea-ecde-57dd4590cde2"
      },
      "execution_count": null,
      "outputs": [
        {
          "output_type": "stream",
          "name": "stdout",
          "text": [
            "Epoch 1/12\n",
            "34/34 [==============================] - 19s 526ms/step - loss: 0.2851 - accuracy: 0.9792 - val_loss: 0.4724 - val_accuracy: 0.8103\n",
            "Epoch 2/12\n",
            "34/34 [==============================] - 15s 445ms/step - loss: 0.1205 - accuracy: 0.9792 - val_loss: 0.6534 - val_accuracy: 0.8103\n",
            "Epoch 3/12\n",
            "34/34 [==============================] - 16s 467ms/step - loss: 0.0970 - accuracy: 0.9792 - val_loss: 2.0056 - val_accuracy: 0.8103\n",
            "Epoch 4/12\n",
            "34/34 [==============================] - 15s 433ms/step - loss: 0.1057 - accuracy: 0.9792 - val_loss: 0.5348 - val_accuracy: 0.8103\n",
            "Epoch 5/12\n",
            "34/34 [==============================] - 15s 439ms/step - loss: 0.0998 - accuracy: 0.9792 - val_loss: 0.6524 - val_accuracy: 0.8103\n",
            "Epoch 6/12\n",
            "34/34 [==============================] - 15s 442ms/step - loss: 0.0880 - accuracy: 0.9792 - val_loss: 0.9314 - val_accuracy: 0.8103\n",
            "Epoch 7/12\n",
            "34/34 [==============================] - 16s 476ms/step - loss: 0.2227 - accuracy: 0.9783 - val_loss: 0.4813 - val_accuracy: 0.8276\n",
            "Epoch 8/12\n",
            "34/34 [==============================] - 15s 434ms/step - loss: 0.1025 - accuracy: 0.9736 - val_loss: 0.5458 - val_accuracy: 0.8103\n",
            "Epoch 9/12\n",
            "34/34 [==============================] - 15s 440ms/step - loss: 0.0826 - accuracy: 0.9792 - val_loss: 0.5288 - val_accuracy: 0.8103\n",
            "Epoch 10/12\n",
            "34/34 [==============================] - 15s 438ms/step - loss: 0.0747 - accuracy: 0.9802 - val_loss: 0.4480 - val_accuracy: 0.8362\n",
            "Epoch 11/12\n",
            "34/34 [==============================] - 16s 476ms/step - loss: 0.0645 - accuracy: 0.9821 - val_loss: 0.3964 - val_accuracy: 0.8017\n",
            "Epoch 12/12\n",
            "34/34 [==============================] - 15s 434ms/step - loss: 0.0519 - accuracy: 0.9792 - val_loss: 0.3710 - val_accuracy: 0.8276\n"
          ]
        }
      ]
    },
    {
      "cell_type": "code",
      "source": [
        "model.save(\"Dental_proj3.h5\")"
      ],
      "metadata": {
        "id": "gbpD3PPK8ulY"
      },
      "execution_count": null,
      "outputs": []
    },
    {
      "cell_type": "code",
      "source": [],
      "metadata": {
        "id": "0TFvybdVSWRS"
      },
      "execution_count": null,
      "outputs": []
    }
  ]
}